{
 "cells": [
  {
   "cell_type": "code",
   "execution_count": 3,
   "id": "f727931f",
   "metadata": {},
   "outputs": [
    {
     "name": "stdout",
     "output_type": "stream",
     "text": [
      "26\n"
     ]
    }
   ],
   "source": [
    "\n",
    "dt =  [1, 7, -0.0000, 0.0002, 100.0 , 518.67, 642.11, 1583.34, 1404.84, 14.62, 21.61, 553.89, 2388.05, 9051.39, 1.30, 47.31, 522.01, 2388.06, 8134.97, 8.3914, 0.03, 391, 2388, 100.00, 38.85, 23.3952]\n",
    "print(len(dt))"
   ]
  },
  {
   "cell_type": "code",
   "execution_count": 4,
   "id": "977ec5fb",
   "metadata": {},
   "outputs": [],
   "source": [
    "def predict(data):\n",
    "    try:\n",
    "        col_name = ['id','cycle','set1','set2','set3','s1','s2','s3','s4','s5','s6','s7','s8']+['s9','s10','s11','s12','s13','s14','s14','s15','s16','s17','s18','s19','s20']\n",
    "        test_dataset = pd.DataFrame([data],columns=col_name)\n",
    "        rul=pd.DataFrame(test_dataset.groupby(\"id\")['cycle'].max()).reset_index()\n",
    "        rul.columns = ['id','max']\n",
    "        truth_ds['rtf']=truth_ds['more']+rul[\"max\"]\n",
    "        truth_ds.head()\n",
    "        truth_ds['rtf']=truth_ds['more']+rul[\"max\"]\n",
    "        test_dataset=test_dataset.merge(truth_ds, on= ['id'], how= \"left\")\n",
    "        test_dataset[ 'ttf']=test_dataset['rtf'] - test_dataset['cycle']\n",
    "        test_dataset.drop ('rtf', axis=1, inplace=True)\n",
    "        df_test = test_dataset.copy()\n",
    "        period = 30\n",
    "        df_test['label_bc'] = df_test ['ttf'].apply(lambda x: 1 if x <= period else 0)\n",
    "        df_test = df_test.dropna()\n",
    "        if len(df_test.index) == 0 :\n",
    "            return True\n",
    "        x_test = df_test.iloc[ : , : -2].values\n",
    "        y_pred = model.predict(x_test)\n",
    "        return True if y_pred[0] else False\n",
    "    except:\n",
    "        return True"
   ]
  },
  {
   "cell_type": "code",
   "execution_count": 5,
   "id": "e9fdf5c0",
   "metadata": {},
   "outputs": [
    {
     "data": {
      "text/plain": [
       "True"
      ]
     },
     "execution_count": 5,
     "metadata": {},
     "output_type": "execute_result"
    }
   ],
   "source": [
    "predict(dt)"
   ]
  },
  {
   "cell_type": "code",
   "execution_count": null,
   "id": "ca41e77c",
   "metadata": {},
   "outputs": [],
   "source": []
  }
 ],
 "metadata": {
  "kernelspec": {
   "display_name": "Python 3",
   "language": "python",
   "name": "python3"
  },
  "language_info": {
   "codemirror_mode": {
    "name": "ipython",
    "version": 3
   },
   "file_extension": ".py",
   "mimetype": "text/x-python",
   "name": "python",
   "nbconvert_exporter": "python",
   "pygments_lexer": "ipython3",
   "version": "3.8.8"
  }
 },
 "nbformat": 4,
 "nbformat_minor": 5
}
